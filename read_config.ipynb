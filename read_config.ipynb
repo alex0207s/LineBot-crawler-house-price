{
 "cells": [
  {
   "cell_type": "code",
   "execution_count": 5,
   "id": "western-coverage",
   "metadata": {},
   "outputs": [],
   "source": [
    "import configparser"
   ]
  },
  {
   "cell_type": "code",
   "execution_count": 6,
   "id": "democratic-vermont",
   "metadata": {},
   "outputs": [
    {
     "data": {
      "text/plain": [
       "['config.ini']"
      ]
     },
     "execution_count": 6,
     "metadata": {},
     "output_type": "execute_result"
    }
   ],
   "source": [
    "config = configparser.ConfigParser()\n",
    "config.read('config.ini')"
   ]
  },
  {
   "cell_type": "code",
   "execution_count": 9,
   "id": "flexible-liverpool",
   "metadata": {},
   "outputs": [
    {
     "name": "stdout",
     "output_type": "stream",
     "text": [
      "<Section: line-bot> \t:  channel_access_token \t: 'zM8h0i3xqlOstHiw0pGe5tHcnEc2yvJ6HRg6SRTH3Lg/1SlRdn3TWaZHePzvnhnMKshqAfriS0Hzowg20CzWa8UN+Zdtb+oE/3To/mtAZ0bX9uHXuxV2YB62b9Q45Z57OE9RdLakkeDJrkLQeDjmbgdB04t89/1O/w1cDnyilFU='\n",
      "<Section: line-bot> \t:  channel_secret \t: 'f0305d1d5dad008c4f5681e28413e4c6'\n"
     ]
    }
   ],
   "source": [
    "for i in config.sections():\n",
    "    for j in config[i]:\n",
    "        print(config[i],\"\\t: \",j, \"\\t:\", config.get(i,j))"
   ]
  },
  {
   "cell_type": "code",
   "execution_count": null,
   "id": "administrative-thursday",
   "metadata": {},
   "outputs": [],
   "source": []
  }
 ],
 "metadata": {
  "kernelspec": {
   "display_name": "Python 3",
   "language": "python",
   "name": "python3"
  },
  "language_info": {
   "codemirror_mode": {
    "name": "ipython",
    "version": 3
   },
   "file_extension": ".py",
   "mimetype": "text/x-python",
   "name": "python",
   "nbconvert_exporter": "python",
   "pygments_lexer": "ipython3",
   "version": "3.7.10"
  }
 },
 "nbformat": 4,
 "nbformat_minor": 5
}
